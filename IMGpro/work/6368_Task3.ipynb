{
 "cells": [
  {
   "cell_type": "markdown",
   "metadata": {},
   "source": [
    "# Task 3 : ลองทำ Histogram Equalization"
   ]
  },
  {
   "cell_type": "code",
   "execution_count": 1,
   "metadata": {},
   "outputs": [],
   "source": [
    "import cv2\n",
    "import numpy as np\n",
    "import matplotlib.pyplot as plt"
   ]
  },
  {
   "cell_type": "markdown",
   "metadata": {},
   "source": [
    "## **Step 1 : Create an image**"
   ]
  },
  {
   "cell_type": "code",
   "execution_count": 2,
   "metadata": {},
   "outputs": [
    {
     "name": "stdout",
     "output_type": "stream",
     "text": [
      "[[5 3 1 0 1]\n",
      " [0 2 1 0 5]\n",
      " [1 5 0 1 2]\n",
      " [4 2 6 2 1]\n",
      " [6 2 0 1 5]]\n"
     ]
    }
   ],
   "source": [
    "img = np.array([[5,3,1,0,1],\n",
    "               [0,2,1,0,5],\n",
    "               [1,5,0,1,2],\n",
    "               [4,2,6,2,1],\n",
    "               [6,2,0,1,5]]\n",
    "               )\n",
    "print(img)"
   ]
  },
  {
   "cell_type": "markdown",
   "metadata": {},
   "source": [
    "## **Step 2 : Histogram Equalization**"
   ]
  },
  {
   "cell_type": "markdown",
   "metadata": {},
   "source": [
    "### Find the cumulative distribution function (CDF)\n",
    "\n",
    "Since all the pixels are integers(all pixels are 3-bit (0-7)), we can use the histogram function to find the CDF. The CDF is the sum of the histogram up to a particular bin, normalized to the range [0,1]."
   ]
  },
  {
   "cell_type": "code",
   "execution_count": 3,
   "metadata": {},
   "outputs": [
    {
     "name": "stdout",
     "output_type": "stream",
     "text": [
      "hist = [5 7 5 1 1 4 2 0] , bins = [0. 1. 2. 3. 4. 5. 6. 7. 8.]\n"
     ]
    }
   ],
   "source": [
    "hist, bins = np.histogram(img, 8 , [0,8])\n",
    "print(f'hist = {hist} , bins = {bins}')"
   ]
  },
  {
   "cell_type": "code",
   "execution_count": 4,
   "metadata": {},
   "outputs": [
    {
     "name": "stdout",
     "output_type": "stream",
     "text": [
      "prop = [0.2  0.28 0.2  0.04 0.04 0.16 0.08 0.  ]\n"
     ]
    }
   ],
   "source": [
    "prop = hist/np.sum(hist)\n",
    "print(f'prop = {prop}')"
   ]
  },
  {
   "cell_type": "code",
   "execution_count": 5,
   "metadata": {},
   "outputs": [
    {
     "name": "stdout",
     "output_type": "stream",
     "text": [
      "cdf = [0.2  0.48 0.68 0.72 0.76 0.92 1.   1.  ]\n"
     ]
    }
   ],
   "source": [
    "cdf = prop.cumsum()\n",
    "print(f'cdf = {cdf}')"
   ]
  },
  {
   "cell_type": "markdown",
   "metadata": {},
   "source": [
    "### Find the transfer function"
   ]
  },
  {
   "cell_type": "code",
   "execution_count": 6,
   "metadata": {},
   "outputs": [
    {
     "name": "stdout",
     "output_type": "stream",
     "text": [
      "maxVal = 6\n",
      "S = [1 2 4 4 4 5 6 6]\n"
     ]
    }
   ],
   "source": [
    "maxVal = np.max(img)\n",
    "print(f'maxVal = {maxVal}')\n",
    "S = np.floor((cdf*maxVal)).astype(int)\n",
    "print(f'S = {S}')"
   ]
  },
  {
   "cell_type": "markdown",
   "metadata": {},
   "source": [
    "### Apply the transfer function to the image"
   ]
  },
  {
   "cell_type": "code",
   "execution_count": 7,
   "metadata": {},
   "outputs": [],
   "source": [
    "imgnew = S[img]"
   ]
  },
  {
   "cell_type": "markdown",
   "metadata": {},
   "source": [
    "## **Step 3 : Show the result**"
   ]
  },
  {
   "cell_type": "code",
   "execution_count": 8,
   "metadata": {},
   "outputs": [
    {
     "name": "stdout",
     "output_type": "stream",
     "text": [
      "imgnew = \n",
      " [[5 4 2 1 2]\n",
      " [1 4 2 1 5]\n",
      " [2 5 1 2 4]\n",
      " [4 4 6 4 2]\n",
      " [6 4 1 2 5]]\n"
     ]
    }
   ],
   "source": [
    "print(f'imgnew = \\n {imgnew}')"
   ]
  }
 ],
 "metadata": {
  "kernelspec": {
   "display_name": "Python 3.10.7 64-bit",
   "language": "python",
   "name": "python3"
  },
  "language_info": {
   "codemirror_mode": {
    "name": "ipython",
    "version": 3
   },
   "file_extension": ".py",
   "mimetype": "text/x-python",
   "name": "python",
   "nbconvert_exporter": "python",
   "pygments_lexer": "ipython3",
   "version": "3.10.7"
  },
  "orig_nbformat": 4,
  "vscode": {
   "interpreter": {
    "hash": "26de051ba29f2982a8de78e945f0abaf191376122a1563185a90213a26c5da77"
   }
  }
 },
 "nbformat": 4,
 "nbformat_minor": 2
}
